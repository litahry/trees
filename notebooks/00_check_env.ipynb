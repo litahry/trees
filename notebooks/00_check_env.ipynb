{
 "cells": [
  {
   "cell_type": "code",
   "execution_count": 2,
   "id": "2cc1e69b-740e-4b57-85ae-c9c245276f1c",
   "metadata": {},
   "outputs": [
    {
     "name": "stdout",
     "output_type": "stream",
     "text": [
      "Found existing installation: trees_experiments 0.0.0\n",
      "Uninstalling trees_experiments-0.0.0:\n",
      "  Successfully uninstalled trees_experiments-0.0.0\n",
      "Note: you may need to restart the kernel to use updated packages.\n",
      "Obtaining file:///C:/Users/Linda/Documents/00-linda/02-project/trees\n",
      "  Installing build dependencies: started\n",
      "  Installing build dependencies: finished with status 'done'\n",
      "  Checking if build backend supports build_editable: started\n",
      "  Checking if build backend supports build_editable: finished with status 'done'\n",
      "  Getting requirements to build editable: started\n",
      "  Getting requirements to build editable: finished with status 'done'\n",
      "  Preparing editable metadata (pyproject.toml): started\n",
      "  Preparing editable metadata (pyproject.toml): finished with status 'done'\n",
      "Building wheels for collected packages: trees_experiments\n",
      "  Building editable for trees_experiments (pyproject.toml): started\n",
      "  Building editable for trees_experiments (pyproject.toml): finished with status 'done'\n",
      "  Created wheel for trees_experiments: filename=trees_experiments-0.0.0-0.editable-py3-none-any.whl size=1305 sha256=e4c584285892656f2a376f34820f3ae91952c42ddb72f381d43a98de9e1db1b7\n",
      "  Stored in directory: C:\\Users\\Linda\\AppData\\Local\\Temp\\pip-ephem-wheel-cache-obtmj2fo\\wheels\\96\\c4\\6c\\b460db486d43b4a922e1c808c701cc8d32c23a99eceb44a1b5\n",
      "Successfully built trees_experiments\n",
      "Installing collected packages: trees_experiments\n",
      "Successfully installed trees_experiments-0.0.0\n",
      "Note: you may need to restart the kernel to use updated packages.\n"
     ]
    }
   ],
   "source": [
    "# install editable package\n",
    "%pip uninstall -y trees-experiments\n",
    "%pip install -e .."
   ]
  },
  {
   "cell_type": "code",
   "execution_count": 1,
   "id": "28f09065-a42f-4b77-8080-0c8bd73072a8",
   "metadata": {},
   "outputs": [
    {
     "name": "stdout",
     "output_type": "stream",
     "text": [
      "Package import OK\n"
     ]
    }
   ],
   "source": [
    "import trees_experiments\n",
    "print(\"Package import OK\")"
   ]
  },
  {
   "cell_type": "code",
   "execution_count": null,
   "id": "d7e240b3-d03f-4c70-8ee6-35baa55c9201",
   "metadata": {},
   "outputs": [],
   "source": []
  }
 ],
 "metadata": {
  "kernelspec": {
   "display_name": "Python (trees)",
   "language": "python",
   "name": "trees"
  },
  "language_info": {
   "codemirror_mode": {
    "name": "ipython",
    "version": 3
   },
   "file_extension": ".py",
   "mimetype": "text/x-python",
   "name": "python",
   "nbconvert_exporter": "python",
   "pygments_lexer": "ipython3",
   "version": "3.10.18"
  }
 },
 "nbformat": 4,
 "nbformat_minor": 5
}
